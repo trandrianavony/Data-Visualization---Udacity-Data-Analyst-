{
 "cells": [
  {
   "cell_type": "markdown",
   "metadata": {
    "slideshow": {
     "slide_type": "slide"
    }
   },
   "source": [
    "<h1> Bay Wheels Data Exploration </h1>"
   ]
  },
  {
   "cell_type": "markdown",
   "metadata": {
    "slideshow": {
     "slide_type": "slide"
    }
   },
   "source": [
    "<h2> By Tony Randrianavony </h2>"
   ]
  },
  {
   "cell_type": "markdown",
   "metadata": {
    "slideshow": {
     "slide_type": "slide"
    }
   },
   "source": [
    "This dataset is the Bay Wheels (previously known as Ford GoBike) Dataset that includes information about individual rides make in a bike sharing system covering the greater San Francisco. In this investigation, I wanted to find characteristics and common behaviors between the users.  "
   ]
  },
  {
   "cell_type": "code",
   "execution_count": null,
   "metadata": {
    "slideshow": {
     "slide_type": "skip"
    }
   },
   "outputs": [],
   "source": [
    "#import all packages\n",
    "import pandas as pd\n",
    "import numpy as np\n",
    "import matplotlib.pyplot as plt\n",
    "import seaborn as sns\n",
    "from requests import get\n",
    "from zipfile import ZipFile\n",
    "import os\n",
    "import glob\n",
    "from io import BytesIO\n",
    "%matplotlib inline\n",
    "path = \"C:\\\\Users\\\\Tony R\""
   ]
  },
  {
   "cell_type": "code",
   "execution_count": 2,
   "metadata": {
    "slideshow": {
     "slide_type": "skip"
    }
   },
   "outputs": [
    {
     "data": {
      "text/html": [
       "<div>\n",
       "<style scoped>\n",
       "    .dataframe tbody tr th:only-of-type {\n",
       "        vertical-align: middle;\n",
       "    }\n",
       "\n",
       "    .dataframe tbody tr th {\n",
       "        vertical-align: top;\n",
       "    }\n",
       "\n",
       "    .dataframe thead th {\n",
       "        text-align: right;\n",
       "    }\n",
       "</style>\n",
       "<table border=\"1\" class=\"dataframe\">\n",
       "  <thead>\n",
       "    <tr style=\"text-align: right;\">\n",
       "      <th></th>\n",
       "      <th>duration_sec</th>\n",
       "      <th>start_time</th>\n",
       "      <th>end_time</th>\n",
       "      <th>start_station_id</th>\n",
       "      <th>start_station_name</th>\n",
       "      <th>start_station_latitude</th>\n",
       "      <th>start_station_longitude</th>\n",
       "      <th>end_station_id</th>\n",
       "      <th>end_station_name</th>\n",
       "      <th>end_station_latitude</th>\n",
       "      <th>end_station_longitude</th>\n",
       "      <th>bike_id</th>\n",
       "      <th>user_type</th>\n",
       "    </tr>\n",
       "  </thead>\n",
       "  <tbody>\n",
       "    <tr>\n",
       "      <th>0</th>\n",
       "      <td>80110</td>\n",
       "      <td>2017-12-31 16:57:39.6540</td>\n",
       "      <td>2018-01-01 15:12:50.2450</td>\n",
       "      <td>74</td>\n",
       "      <td>Laguna St at Hayes St</td>\n",
       "      <td>37.776435</td>\n",
       "      <td>-122.426244</td>\n",
       "      <td>43</td>\n",
       "      <td>San Francisco Public Library (Grove St at Hyde...</td>\n",
       "      <td>37.778768</td>\n",
       "      <td>-122.415929</td>\n",
       "      <td>96</td>\n",
       "      <td>Customer</td>\n",
       "    </tr>\n",
       "    <tr>\n",
       "      <th>1</th>\n",
       "      <td>78800</td>\n",
       "      <td>2017-12-31 15:56:34.8420</td>\n",
       "      <td>2018-01-01 13:49:55.6170</td>\n",
       "      <td>284</td>\n",
       "      <td>Yerba Buena Center for the Arts (Howard St at ...</td>\n",
       "      <td>37.784872</td>\n",
       "      <td>-122.400876</td>\n",
       "      <td>96</td>\n",
       "      <td>Dolores St at 15th St</td>\n",
       "      <td>37.766210</td>\n",
       "      <td>-122.426614</td>\n",
       "      <td>88</td>\n",
       "      <td>Customer</td>\n",
       "    </tr>\n",
       "    <tr>\n",
       "      <th>2</th>\n",
       "      <td>45768</td>\n",
       "      <td>2017-12-31 22:45:48.4110</td>\n",
       "      <td>2018-01-01 11:28:36.8830</td>\n",
       "      <td>245</td>\n",
       "      <td>Downtown Berkeley BART</td>\n",
       "      <td>37.870348</td>\n",
       "      <td>-122.267764</td>\n",
       "      <td>245</td>\n",
       "      <td>Downtown Berkeley BART</td>\n",
       "      <td>37.870348</td>\n",
       "      <td>-122.267764</td>\n",
       "      <td>1094</td>\n",
       "      <td>Customer</td>\n",
       "    </tr>\n",
       "    <tr>\n",
       "      <th>3</th>\n",
       "      <td>62172</td>\n",
       "      <td>2017-12-31 17:31:10.6360</td>\n",
       "      <td>2018-01-01 10:47:23.5310</td>\n",
       "      <td>60</td>\n",
       "      <td>8th St at Ringold St</td>\n",
       "      <td>37.774520</td>\n",
       "      <td>-122.409449</td>\n",
       "      <td>5</td>\n",
       "      <td>Powell St BART Station (Market St at 5th St)</td>\n",
       "      <td>37.783899</td>\n",
       "      <td>-122.408445</td>\n",
       "      <td>2831</td>\n",
       "      <td>Customer</td>\n",
       "    </tr>\n",
       "    <tr>\n",
       "      <th>4</th>\n",
       "      <td>43603</td>\n",
       "      <td>2017-12-31 14:23:14.0010</td>\n",
       "      <td>2018-01-01 02:29:57.5710</td>\n",
       "      <td>239</td>\n",
       "      <td>Bancroft Way at Telegraph Ave</td>\n",
       "      <td>37.868813</td>\n",
       "      <td>-122.258764</td>\n",
       "      <td>247</td>\n",
       "      <td>Fulton St at Bancroft Way</td>\n",
       "      <td>37.867789</td>\n",
       "      <td>-122.265896</td>\n",
       "      <td>3167</td>\n",
       "      <td>Subscriber</td>\n",
       "    </tr>\n",
       "  </tbody>\n",
       "</table>\n",
       "</div>"
      ],
      "text/plain": [
       "   duration_sec                start_time                  end_time  \\\n",
       "0         80110  2017-12-31 16:57:39.6540  2018-01-01 15:12:50.2450   \n",
       "1         78800  2017-12-31 15:56:34.8420  2018-01-01 13:49:55.6170   \n",
       "2         45768  2017-12-31 22:45:48.4110  2018-01-01 11:28:36.8830   \n",
       "3         62172  2017-12-31 17:31:10.6360  2018-01-01 10:47:23.5310   \n",
       "4         43603  2017-12-31 14:23:14.0010  2018-01-01 02:29:57.5710   \n",
       "\n",
       "   start_station_id                                 start_station_name  \\\n",
       "0                74                              Laguna St at Hayes St   \n",
       "1               284  Yerba Buena Center for the Arts (Howard St at ...   \n",
       "2               245                             Downtown Berkeley BART   \n",
       "3                60                               8th St at Ringold St   \n",
       "4               239                      Bancroft Way at Telegraph Ave   \n",
       "\n",
       "   start_station_latitude  start_station_longitude  end_station_id  \\\n",
       "0               37.776435              -122.426244              43   \n",
       "1               37.784872              -122.400876              96   \n",
       "2               37.870348              -122.267764             245   \n",
       "3               37.774520              -122.409449               5   \n",
       "4               37.868813              -122.258764             247   \n",
       "\n",
       "                                    end_station_name  end_station_latitude  \\\n",
       "0  San Francisco Public Library (Grove St at Hyde...             37.778768   \n",
       "1                              Dolores St at 15th St             37.766210   \n",
       "2                             Downtown Berkeley BART             37.870348   \n",
       "3       Powell St BART Station (Market St at 5th St)             37.783899   \n",
       "4                          Fulton St at Bancroft Way             37.867789   \n",
       "\n",
       "   end_station_longitude  bike_id   user_type  \n",
       "0            -122.415929       96    Customer  \n",
       "1            -122.426614       88    Customer  \n",
       "2            -122.267764     1094    Customer  \n",
       "3            -122.408445     2831    Customer  \n",
       "4            -122.265896     3167  Subscriber  "
      ]
     },
     "execution_count": 2,
     "metadata": {},
     "output_type": "execute_result"
    }
   ],
   "source": [
    "#Upload first dataset into a dataframe \n",
    "df = pd.read_csv('2017-fordgobike-tripdata.csv')\n",
    "#Quick overview of the dataframe\n",
    "df.head()"
   ]
  },
  {
   "cell_type": "code",
   "execution_count": 3,
   "metadata": {
    "slideshow": {
     "slide_type": "skip"
    }
   },
   "outputs": [],
   "source": [
    "#Uploading the rest of the needed files\n",
    "links = [\"https://s3.amazonaws.com/baywheels-data/201801-fordgobike-tripdata.csv.zip\",\"https://s3.amazonaws.com/baywheels-data/201802-fordgobike-tripdata.csv.zip\"\n",
    "        ,\"https://s3.amazonaws.com/baywheels-data/201803-fordgobike-tripdata.csv.zip\",\"https://s3.amazonaws.com/baywheels-data/201804-fordgobike-tripdata.csv.zip\"\n",
    "        ,\"https://s3.amazonaws.com/baywheels-data/201805-fordgobike-tripdata.csv.zip\",\"https://s3.amazonaws.com/baywheels-data/201806-fordgobike-tripdata.csv.zip\"\n",
    "        ,\"https://s3.amazonaws.com/baywheels-data/201807-fordgobike-tripdata.csv.zip\",\"https://s3.amazonaws.com/baywheels-data/201808-fordgobike-tripdata.csv.zip\"\n",
    "        ,\"https://s3.amazonaws.com/baywheels-data/201809-fordgobike-tripdata.csv.zip\",\"https://s3.amazonaws.com/baywheels-data/201810-fordgobike-tripdata.csv.zip\"\n",
    "        ,\"https://s3.amazonaws.com/baywheels-data/201811-fordgobike-tripdata.csv.zip\",\"https://s3.amazonaws.com/baywheels-data/201812-fordgobike-tripdata.csv.zip\"\n",
    "        ,\"https://s3.amazonaws.com/baywheels-data/201901-fordgobike-tripdata.csv.zip\",\"https://s3.amazonaws.com/baywheels-data/201902-fordgobike-tripdata.csv.zip\"\n",
    "        ,\"https://s3.amazonaws.com/baywheels-data/201903-fordgobike-tripdata.csv.zip\",\"https://s3.amazonaws.com/baywheels-data/201904-fordgobike-tripdata.csv.zip\"\n",
    "        ,\"https://s3.amazonaws.com/baywheels-data/201905-baywheels-tripdata.csv.zip\", \"https://s3.amazonaws.com/baywheels-data/201906-baywheels-tripdata.csv.zip\"\n",
    "        ,\"https://s3.amazonaws.com/baywheels-data/201907-baywheels-tripdata.csv.zip\", \"https://s3.amazonaws.com/baywheels-data/201908-baywheels-tripdata.csv.zip\"\n",
    "        ,\"https://s3.amazonaws.com/baywheels-data/201909-baywheels-tripdata.csv.zip\", \"https://s3.amazonaws.com/baywheels-data/201910-baywheels-tripdata.csv.zip\"\n",
    "        ,\"https://s3.amazonaws.com/baywheels-data/201911-baywheels-tripdata.csv.zip\", \"https://s3.amazonaws.com/baywheels-data/201912-baywheels-tripdata.csv.zip\"\n",
    "        ,\"https://s3.amazonaws.com/baywheels-data/202001-baywheels-tripdata.csv.zip\", \"https://s3.amazonaws.com/baywheels-data/202002-baywheels-tripdata.csv.zip\"\n",
    "        ,\"https://s3.amazonaws.com/baywheels-data/202003-baywheels-tripdata.csv.zip\", \"https://s3.amazonaws.com/baywheels-data/202004-baywheels-tripdata.csv.zip\"\n",
    "        ,\"https://s3.amazonaws.com/baywheels-data/202005-baywheels-tripdata.csv.zip\", \"https://s3.amazonaws.com/baywheels-data/202006-baywheels-tripdata.csv.zip\"]\n",
    "\n",
    "for link in links:\n",
    "    zipfile = get(link)\n",
    "    with ZipFile(BytesIO(zipfile.content)) as file:\n",
    "        file.extractall()"
   ]
  },
  {
   "cell_type": "code",
   "execution_count": 4,
   "metadata": {
    "slideshow": {
     "slide_type": "skip"
    }
   },
   "outputs": [],
   "source": [
    "#Gathering all files into one\n",
    "all_files = glob.glob(os.path.join(path + \"/*.csv\"))\n",
    "all_csv = (pd.read_csv(f, sep=',',low_memory=False) for f in all_files)\n",
    "df_merged  = pd.concat(all_csv, ignore_index=True)\n",
    "df_merged.to_csv( \"newdf.csv\")"
   ]
  },
  {
   "cell_type": "code",
   "execution_count": 4,
   "metadata": {
    "slideshow": {
     "slide_type": "skip"
    }
   },
   "outputs": [
    {
     "data": {
      "text/plain": [
       "(12352178, 27)"
      ]
     },
     "execution_count": 4,
     "metadata": {},
     "output_type": "execute_result"
    }
   ],
   "source": [
    "#Setting new dataframe and looking at its shape \n",
    "newdf = pd.read_csv('newdf.csv')\n",
    "newdf.shape"
   ]
  },
  {
   "cell_type": "markdown",
   "metadata": {
    "slideshow": {
     "slide_type": "slide"
    }
   },
   "source": [
    "<h2> What is the structure of your dataset? </h2>"
   ]
  },
  {
   "cell_type": "code",
   "execution_count": 5,
   "metadata": {
    "slideshow": {
     "slide_type": "skip"
    }
   },
   "outputs": [
    {
     "data": {
      "text/html": [
       "<div>\n",
       "<style scoped>\n",
       "    .dataframe tbody tr th:only-of-type {\n",
       "        vertical-align: middle;\n",
       "    }\n",
       "\n",
       "    .dataframe tbody tr th {\n",
       "        vertical-align: top;\n",
       "    }\n",
       "\n",
       "    .dataframe thead th {\n",
       "        text-align: right;\n",
       "    }\n",
       "</style>\n",
       "<table border=\"1\" class=\"dataframe\">\n",
       "  <thead>\n",
       "    <tr style=\"text-align: right;\">\n",
       "      <th></th>\n",
       "      <th>1741761</th>\n",
       "      <th>7976352</th>\n",
       "      <th>6309224</th>\n",
       "      <th>3724743</th>\n",
       "      <th>2715842</th>\n",
       "    </tr>\n",
       "  </thead>\n",
       "  <tbody>\n",
       "    <tr>\n",
       "      <th>Unnamed: 0</th>\n",
       "      <td>1741761</td>\n",
       "      <td>7976352</td>\n",
       "      <td>6309224</td>\n",
       "      <td>3724743</td>\n",
       "      <td>2715842</td>\n",
       "    </tr>\n",
       "    <tr>\n",
       "      <th>duration_sec</th>\n",
       "      <td>453</td>\n",
       "      <td>338</td>\n",
       "      <td>756</td>\n",
       "      <td>479</td>\n",
       "      <td>157</td>\n",
       "    </tr>\n",
       "    <tr>\n",
       "      <th>start_time</th>\n",
       "      <td>2018-09-28 16:36:19.8390</td>\n",
       "      <td>2018-09-19 20:47:19.7640</td>\n",
       "      <td>2017-11-14 18:27:29.3310</td>\n",
       "      <td>2019-07-14 11:27:18.7750</td>\n",
       "      <td>2019-02-07 19:17:33.4910</td>\n",
       "    </tr>\n",
       "    <tr>\n",
       "      <th>end_time</th>\n",
       "      <td>2018-09-28 16:43:53.1140</td>\n",
       "      <td>2018-09-19 20:52:57.7990</td>\n",
       "      <td>2017-11-14 18:40:05.4670</td>\n",
       "      <td>2019-07-14 11:35:18.2590</td>\n",
       "      <td>2019-02-07 19:20:11.3050</td>\n",
       "    </tr>\n",
       "    <tr>\n",
       "      <th>start_station_id</th>\n",
       "      <td>47</td>\n",
       "      <td>256</td>\n",
       "      <td>324</td>\n",
       "      <td>321</td>\n",
       "      <td>182</td>\n",
       "    </tr>\n",
       "    <tr>\n",
       "      <th>start_station_name</th>\n",
       "      <td>4th St at Harrison St</td>\n",
       "      <td>Hearst Ave at Euclid Ave</td>\n",
       "      <td>Union Square (Powell St at Post St)</td>\n",
       "      <td>5th St at Folsom</td>\n",
       "      <td>19th Street BART Station</td>\n",
       "    </tr>\n",
       "    <tr>\n",
       "      <th>start_station_latitude</th>\n",
       "      <td>37.781</td>\n",
       "      <td>37.8751</td>\n",
       "      <td>37.7883</td>\n",
       "      <td>37.7801</td>\n",
       "      <td>37.809</td>\n",
       "    </tr>\n",
       "    <tr>\n",
       "      <th>start_station_longitude</th>\n",
       "      <td>-122.4</td>\n",
       "      <td>-122.261</td>\n",
       "      <td>-122.409</td>\n",
       "      <td>-122.403</td>\n",
       "      <td>-122.268</td>\n",
       "    </tr>\n",
       "    <tr>\n",
       "      <th>end_station_id</th>\n",
       "      <td>349</td>\n",
       "      <td>255</td>\n",
       "      <td>98</td>\n",
       "      <td>89</td>\n",
       "      <td>180</td>\n",
       "    </tr>\n",
       "    <tr>\n",
       "      <th>end_station_name</th>\n",
       "      <td>Howard St at Mary St</td>\n",
       "      <td>Virginia St at Shattuck Ave</td>\n",
       "      <td>Valencia St at 16th St</td>\n",
       "      <td>Division St at Potrero Ave</td>\n",
       "      <td>Telegraph Ave at 23rd St</td>\n",
       "    </tr>\n",
       "    <tr>\n",
       "      <th>end_station_latitude</th>\n",
       "      <td>37.781</td>\n",
       "      <td>37.8766</td>\n",
       "      <td>37.7651</td>\n",
       "      <td>37.7692</td>\n",
       "      <td>37.8127</td>\n",
       "    </tr>\n",
       "    <tr>\n",
       "      <th>end_station_longitude</th>\n",
       "      <td>-122.406</td>\n",
       "      <td>-122.27</td>\n",
       "      <td>-122.422</td>\n",
       "      <td>-122.408</td>\n",
       "      <td>-122.269</td>\n",
       "    </tr>\n",
       "    <tr>\n",
       "      <th>bike_id</th>\n",
       "      <td>4404</td>\n",
       "      <td>289</td>\n",
       "      <td>459</td>\n",
       "      <td>3716</td>\n",
       "      <td>3427</td>\n",
       "    </tr>\n",
       "    <tr>\n",
       "      <th>user_type</th>\n",
       "      <td>Subscriber</td>\n",
       "      <td>Subscriber</td>\n",
       "      <td>Subscriber</td>\n",
       "      <td>Subscriber</td>\n",
       "      <td>Subscriber</td>\n",
       "    </tr>\n",
       "    <tr>\n",
       "      <th>bike_share_for_all_trip</th>\n",
       "      <td>No</td>\n",
       "      <td>No</td>\n",
       "      <td>NaN</td>\n",
       "      <td>No</td>\n",
       "      <td>No</td>\n",
       "    </tr>\n",
       "    <tr>\n",
       "      <th>rental_access_method</th>\n",
       "      <td>NaN</td>\n",
       "      <td>NaN</td>\n",
       "      <td>NaN</td>\n",
       "      <td>NaN</td>\n",
       "      <td>NaN</td>\n",
       "    </tr>\n",
       "    <tr>\n",
       "      <th>ride_id</th>\n",
       "      <td>NaN</td>\n",
       "      <td>NaN</td>\n",
       "      <td>NaN</td>\n",
       "      <td>NaN</td>\n",
       "      <td>NaN</td>\n",
       "    </tr>\n",
       "    <tr>\n",
       "      <th>rideable_type</th>\n",
       "      <td>NaN</td>\n",
       "      <td>NaN</td>\n",
       "      <td>NaN</td>\n",
       "      <td>NaN</td>\n",
       "      <td>NaN</td>\n",
       "    </tr>\n",
       "    <tr>\n",
       "      <th>started_at</th>\n",
       "      <td>NaN</td>\n",
       "      <td>NaN</td>\n",
       "      <td>NaN</td>\n",
       "      <td>NaN</td>\n",
       "      <td>NaN</td>\n",
       "    </tr>\n",
       "    <tr>\n",
       "      <th>ended_at</th>\n",
       "      <td>NaN</td>\n",
       "      <td>NaN</td>\n",
       "      <td>NaN</td>\n",
       "      <td>NaN</td>\n",
       "      <td>NaN</td>\n",
       "    </tr>\n",
       "    <tr>\n",
       "      <th>start_lat</th>\n",
       "      <td>NaN</td>\n",
       "      <td>NaN</td>\n",
       "      <td>NaN</td>\n",
       "      <td>NaN</td>\n",
       "      <td>NaN</td>\n",
       "    </tr>\n",
       "    <tr>\n",
       "      <th>start_lng</th>\n",
       "      <td>NaN</td>\n",
       "      <td>NaN</td>\n",
       "      <td>NaN</td>\n",
       "      <td>NaN</td>\n",
       "      <td>NaN</td>\n",
       "    </tr>\n",
       "    <tr>\n",
       "      <th>end_lat</th>\n",
       "      <td>NaN</td>\n",
       "      <td>NaN</td>\n",
       "      <td>NaN</td>\n",
       "      <td>NaN</td>\n",
       "      <td>NaN</td>\n",
       "    </tr>\n",
       "    <tr>\n",
       "      <th>end_lng</th>\n",
       "      <td>NaN</td>\n",
       "      <td>NaN</td>\n",
       "      <td>NaN</td>\n",
       "      <td>NaN</td>\n",
       "      <td>NaN</td>\n",
       "    </tr>\n",
       "    <tr>\n",
       "      <th>member_casual</th>\n",
       "      <td>NaN</td>\n",
       "      <td>NaN</td>\n",
       "      <td>NaN</td>\n",
       "      <td>NaN</td>\n",
       "      <td>NaN</td>\n",
       "    </tr>\n",
       "    <tr>\n",
       "      <th>is_equity</th>\n",
       "      <td>NaN</td>\n",
       "      <td>NaN</td>\n",
       "      <td>NaN</td>\n",
       "      <td>NaN</td>\n",
       "      <td>NaN</td>\n",
       "    </tr>\n",
       "    <tr>\n",
       "      <th>Unnamed: 0.1</th>\n",
       "      <td>NaN</td>\n",
       "      <td>1.80026e+06</td>\n",
       "      <td>133135</td>\n",
       "      <td>NaN</td>\n",
       "      <td>NaN</td>\n",
       "    </tr>\n",
       "  </tbody>\n",
       "</table>\n",
       "</div>"
      ],
      "text/plain": [
       "                                          1741761  \\\n",
       "Unnamed: 0                                1741761   \n",
       "duration_sec                                  453   \n",
       "start_time               2018-09-28 16:36:19.8390   \n",
       "end_time                 2018-09-28 16:43:53.1140   \n",
       "start_station_id                               47   \n",
       "start_station_name          4th St at Harrison St   \n",
       "start_station_latitude                     37.781   \n",
       "start_station_longitude                    -122.4   \n",
       "end_station_id                                349   \n",
       "end_station_name             Howard St at Mary St   \n",
       "end_station_latitude                       37.781   \n",
       "end_station_longitude                    -122.406   \n",
       "bike_id                                      4404   \n",
       "user_type                              Subscriber   \n",
       "bike_share_for_all_trip                        No   \n",
       "rental_access_method                          NaN   \n",
       "ride_id                                       NaN   \n",
       "rideable_type                                 NaN   \n",
       "started_at                                    NaN   \n",
       "ended_at                                      NaN   \n",
       "start_lat                                     NaN   \n",
       "start_lng                                     NaN   \n",
       "end_lat                                       NaN   \n",
       "end_lng                                       NaN   \n",
       "member_casual                                 NaN   \n",
       "is_equity                                     NaN   \n",
       "Unnamed: 0.1                                  NaN   \n",
       "\n",
       "                                             7976352  \\\n",
       "Unnamed: 0                                   7976352   \n",
       "duration_sec                                     338   \n",
       "start_time                  2018-09-19 20:47:19.7640   \n",
       "end_time                    2018-09-19 20:52:57.7990   \n",
       "start_station_id                                 256   \n",
       "start_station_name          Hearst Ave at Euclid Ave   \n",
       "start_station_latitude                       37.8751   \n",
       "start_station_longitude                     -122.261   \n",
       "end_station_id                                   255   \n",
       "end_station_name         Virginia St at Shattuck Ave   \n",
       "end_station_latitude                         37.8766   \n",
       "end_station_longitude                        -122.27   \n",
       "bike_id                                          289   \n",
       "user_type                                 Subscriber   \n",
       "bike_share_for_all_trip                           No   \n",
       "rental_access_method                             NaN   \n",
       "ride_id                                          NaN   \n",
       "rideable_type                                    NaN   \n",
       "started_at                                       NaN   \n",
       "ended_at                                         NaN   \n",
       "start_lat                                        NaN   \n",
       "start_lng                                        NaN   \n",
       "end_lat                                          NaN   \n",
       "end_lng                                          NaN   \n",
       "member_casual                                    NaN   \n",
       "is_equity                                        NaN   \n",
       "Unnamed: 0.1                             1.80026e+06   \n",
       "\n",
       "                                                     6309224  \\\n",
       "Unnamed: 0                                           6309224   \n",
       "duration_sec                                             756   \n",
       "start_time                          2017-11-14 18:27:29.3310   \n",
       "end_time                            2017-11-14 18:40:05.4670   \n",
       "start_station_id                                         324   \n",
       "start_station_name       Union Square (Powell St at Post St)   \n",
       "start_station_latitude                               37.7883   \n",
       "start_station_longitude                             -122.409   \n",
       "end_station_id                                            98   \n",
       "end_station_name                      Valencia St at 16th St   \n",
       "end_station_latitude                                 37.7651   \n",
       "end_station_longitude                               -122.422   \n",
       "bike_id                                                  459   \n",
       "user_type                                         Subscriber   \n",
       "bike_share_for_all_trip                                  NaN   \n",
       "rental_access_method                                     NaN   \n",
       "ride_id                                                  NaN   \n",
       "rideable_type                                            NaN   \n",
       "started_at                                               NaN   \n",
       "ended_at                                                 NaN   \n",
       "start_lat                                                NaN   \n",
       "start_lng                                                NaN   \n",
       "end_lat                                                  NaN   \n",
       "end_lng                                                  NaN   \n",
       "member_casual                                            NaN   \n",
       "is_equity                                                NaN   \n",
       "Unnamed: 0.1                                          133135   \n",
       "\n",
       "                                            3724743                   2715842  \n",
       "Unnamed: 0                                  3724743                   2715842  \n",
       "duration_sec                                    479                       157  \n",
       "start_time                 2019-07-14 11:27:18.7750  2019-02-07 19:17:33.4910  \n",
       "end_time                   2019-07-14 11:35:18.2590  2019-02-07 19:20:11.3050  \n",
       "start_station_id                                321                       182  \n",
       "start_station_name                 5th St at Folsom  19th Street BART Station  \n",
       "start_station_latitude                      37.7801                    37.809  \n",
       "start_station_longitude                    -122.403                  -122.268  \n",
       "end_station_id                                   89                       180  \n",
       "end_station_name         Division St at Potrero Ave  Telegraph Ave at 23rd St  \n",
       "end_station_latitude                        37.7692                   37.8127  \n",
       "end_station_longitude                      -122.408                  -122.269  \n",
       "bike_id                                        3716                      3427  \n",
       "user_type                                Subscriber                Subscriber  \n",
       "bike_share_for_all_trip                          No                        No  \n",
       "rental_access_method                            NaN                       NaN  \n",
       "ride_id                                         NaN                       NaN  \n",
       "rideable_type                                   NaN                       NaN  \n",
       "started_at                                      NaN                       NaN  \n",
       "ended_at                                        NaN                       NaN  \n",
       "start_lat                                       NaN                       NaN  \n",
       "start_lng                                       NaN                       NaN  \n",
       "end_lat                                         NaN                       NaN  \n",
       "end_lng                                         NaN                       NaN  \n",
       "member_casual                                   NaN                       NaN  \n",
       "is_equity                                       NaN                       NaN  \n",
       "Unnamed: 0.1                                    NaN                       NaN  "
      ]
     },
     "execution_count": 5,
     "metadata": {},
     "output_type": "execute_result"
    }
   ],
   "source": [
    "#Overview of the dataframe\n",
    "newdf.sample(5).T"
   ]
  },
  {
   "cell_type": "markdown",
   "metadata": {
    "slideshow": {
     "slide_type": "slide"
    }
   },
   "source": [
    "Each trip from the dataframe is itemized by multiple categories. Where my main features of interest include the start and end time , the duration and the type of users. "
   ]
  },
  {
   "cell_type": "code",
   "execution_count": 6,
   "metadata": {
    "slideshow": {
     "slide_type": "skip"
    }
   },
   "outputs": [],
   "source": [
    "#Creating a new DataFrame to clean\n",
    "df_clean = newdf.copy()"
   ]
  },
  {
   "cell_type": "code",
   "execution_count": 7,
   "metadata": {
    "slideshow": {
     "slide_type": "skip"
    }
   },
   "outputs": [],
   "source": [
    "#Filling out the rows with no values because some columns have different names \n",
    "df_clean ['start_time'] = df_clean['start_time'].fillna(df_clean['started_at'])\n",
    "df_clean ['end_time'] = df_clean['end_time'].fillna(df_clean['ended_at'])\n",
    "df_clean ['start_station_latitude'] = df_clean['start_station_latitude'].fillna(df_clean['start_lat'])\n",
    "df_clean ['start_station_longitude'] = df_clean['start_station_longitude'].fillna(df_clean['start_lng'])\n",
    "df_clean ['end_station_latitude'] = df_clean['end_station_latitude'].fillna(df_clean['end_lat'])\n",
    "df_clean ['end_station_longitude'] = df_clean['end_station_longitude'].fillna(df_clean['end_lng'])"
   ]
  },
  {
   "cell_type": "code",
   "execution_count": 8,
   "metadata": {
    "slideshow": {
     "slide_type": "skip"
    }
   },
   "outputs": [],
   "source": [
    "#Deleting columns that are not needed\n",
    "\n",
    "df_clean = df_clean.drop(['started_at', 'ended_at', 'start_lat','end_lat','start_lng','end_lat','end_lng'], axis=1)\n",
    "\n",
    "df_clean = df_clean.drop(['ride_id', 'rideable_type', 'member_casual'], axis=1)"
   ]
  },
  {
   "cell_type": "code",
   "execution_count": 9,
   "metadata": {
    "slideshow": {
     "slide_type": "skip"
    }
   },
   "outputs": [
    {
     "data": {
      "text/html": [
       "<div>\n",
       "<style scoped>\n",
       "    .dataframe tbody tr th:only-of-type {\n",
       "        vertical-align: middle;\n",
       "    }\n",
       "\n",
       "    .dataframe tbody tr th {\n",
       "        vertical-align: top;\n",
       "    }\n",
       "\n",
       "    .dataframe thead th {\n",
       "        text-align: right;\n",
       "    }\n",
       "</style>\n",
       "<table border=\"1\" class=\"dataframe\">\n",
       "  <thead>\n",
       "    <tr style=\"text-align: right;\">\n",
       "      <th></th>\n",
       "      <th>9112353</th>\n",
       "      <th>6356543</th>\n",
       "      <th>8230870</th>\n",
       "      <th>4155384</th>\n",
       "      <th>3675139</th>\n",
       "    </tr>\n",
       "  </thead>\n",
       "  <tbody>\n",
       "    <tr>\n",
       "      <th>Unnamed: 0</th>\n",
       "      <td>9112353</td>\n",
       "      <td>6356543</td>\n",
       "      <td>8230870</td>\n",
       "      <td>4155384</td>\n",
       "      <td>3675139</td>\n",
       "    </tr>\n",
       "    <tr>\n",
       "      <th>duration_sec</th>\n",
       "      <td>1455</td>\n",
       "      <td>436</td>\n",
       "      <td>216</td>\n",
       "      <td>146</td>\n",
       "      <td>352</td>\n",
       "    </tr>\n",
       "    <tr>\n",
       "      <th>start_time</th>\n",
       "      <td>2019-03-12 08:27:17.9620</td>\n",
       "      <td>2017-11-01 11:43:59.5740</td>\n",
       "      <td>2018-10-10 10:04:53.3010</td>\n",
       "      <td>2019-09-23 11:54:53.5820</td>\n",
       "      <td>2019-07-23 08:53:46.2720</td>\n",
       "    </tr>\n",
       "    <tr>\n",
       "      <th>end_time</th>\n",
       "      <td>2019-03-12 08:51:33.8060</td>\n",
       "      <td>2017-11-01 11:51:16.2780</td>\n",
       "      <td>2018-10-10 10:08:29.7890</td>\n",
       "      <td>2019-09-23 11:57:19.8090</td>\n",
       "      <td>2019-07-23 08:59:39.1750</td>\n",
       "    </tr>\n",
       "    <tr>\n",
       "      <th>start_station_id</th>\n",
       "      <td>138</td>\n",
       "      <td>6</td>\n",
       "      <td>20</td>\n",
       "      <td>47</td>\n",
       "      <td>270</td>\n",
       "    </tr>\n",
       "    <tr>\n",
       "      <th>start_station_name</th>\n",
       "      <td>Jersey St at Church St</td>\n",
       "      <td>The Embarcadero at Sansome St</td>\n",
       "      <td>Mechanics Monument Plaza (Market St at Bush St)</td>\n",
       "      <td>4th St at Harrison St</td>\n",
       "      <td>Ninth St at Heinz Ave</td>\n",
       "    </tr>\n",
       "    <tr>\n",
       "      <th>start_station_latitude</th>\n",
       "      <td>37.7509</td>\n",
       "      <td>37.8048</td>\n",
       "      <td>37.7913</td>\n",
       "      <td>37.781</td>\n",
       "      <td>37.8535</td>\n",
       "    </tr>\n",
       "    <tr>\n",
       "      <th>start_station_longitude</th>\n",
       "      <td>-122.427</td>\n",
       "      <td>-122.403</td>\n",
       "      <td>-122.399</td>\n",
       "      <td>-122.4</td>\n",
       "      <td>-122.289</td>\n",
       "    </tr>\n",
       "    <tr>\n",
       "      <th>end_station_id</th>\n",
       "      <td>21</td>\n",
       "      <td>16</td>\n",
       "      <td>3</td>\n",
       "      <td>465</td>\n",
       "      <td>263</td>\n",
       "    </tr>\n",
       "    <tr>\n",
       "      <th>end_station_name</th>\n",
       "      <td>Montgomery St BART Station (Market St at 2nd St)</td>\n",
       "      <td>Steuart St at Market St</td>\n",
       "      <td>Powell St BART Station (Market St at 4th St)</td>\n",
       "      <td>San Francisco Caltrain Station (King St at 4th...</td>\n",
       "      <td>Channing Way at San Pablo Ave</td>\n",
       "    </tr>\n",
       "    <tr>\n",
       "      <th>end_station_latitude</th>\n",
       "      <td>37.7896</td>\n",
       "      <td>37.7941</td>\n",
       "      <td>37.7864</td>\n",
       "      <td>37.7763</td>\n",
       "      <td>37.8628</td>\n",
       "    </tr>\n",
       "    <tr>\n",
       "      <th>end_station_longitude</th>\n",
       "      <td>-122.401</td>\n",
       "      <td>-122.394</td>\n",
       "      <td>-122.405</td>\n",
       "      <td>-122.394</td>\n",
       "      <td>-122.29</td>\n",
       "    </tr>\n",
       "    <tr>\n",
       "      <th>bike_id</th>\n",
       "      <td>1896</td>\n",
       "      <td>3136</td>\n",
       "      <td>4349</td>\n",
       "      <td>1813</td>\n",
       "      <td>1121</td>\n",
       "    </tr>\n",
       "    <tr>\n",
       "      <th>user_type</th>\n",
       "      <td>Subscriber</td>\n",
       "      <td>Subscriber</td>\n",
       "      <td>Subscriber</td>\n",
       "      <td>Customer</td>\n",
       "      <td>Subscriber</td>\n",
       "    </tr>\n",
       "    <tr>\n",
       "      <th>bike_share_for_all_trip</th>\n",
       "      <td>No</td>\n",
       "      <td>NaN</td>\n",
       "      <td>Yes</td>\n",
       "      <td>No</td>\n",
       "      <td>No</td>\n",
       "    </tr>\n",
       "    <tr>\n",
       "      <th>rental_access_method</th>\n",
       "      <td>NaN</td>\n",
       "      <td>NaN</td>\n",
       "      <td>NaN</td>\n",
       "      <td>NaN</td>\n",
       "      <td>NaN</td>\n",
       "    </tr>\n",
       "    <tr>\n",
       "      <th>is_equity</th>\n",
       "      <td>NaN</td>\n",
       "      <td>NaN</td>\n",
       "      <td>NaN</td>\n",
       "      <td>NaN</td>\n",
       "      <td>NaN</td>\n",
       "    </tr>\n",
       "    <tr>\n",
       "      <th>Unnamed: 0.1</th>\n",
       "      <td>2.93626e+06</td>\n",
       "      <td>180454</td>\n",
       "      <td>2.05478e+06</td>\n",
       "      <td>NaN</td>\n",
       "      <td>NaN</td>\n",
       "    </tr>\n",
       "  </tbody>\n",
       "</table>\n",
       "</div>"
      ],
      "text/plain": [
       "                                                                  9112353  \\\n",
       "Unnamed: 0                                                        9112353   \n",
       "duration_sec                                                         1455   \n",
       "start_time                                       2019-03-12 08:27:17.9620   \n",
       "end_time                                         2019-03-12 08:51:33.8060   \n",
       "start_station_id                                                      138   \n",
       "start_station_name                                 Jersey St at Church St   \n",
       "start_station_latitude                                            37.7509   \n",
       "start_station_longitude                                          -122.427   \n",
       "end_station_id                                                         21   \n",
       "end_station_name         Montgomery St BART Station (Market St at 2nd St)   \n",
       "end_station_latitude                                              37.7896   \n",
       "end_station_longitude                                            -122.401   \n",
       "bike_id                                                              1896   \n",
       "user_type                                                      Subscriber   \n",
       "bike_share_for_all_trip                                                No   \n",
       "rental_access_method                                                  NaN   \n",
       "is_equity                                                             NaN   \n",
       "Unnamed: 0.1                                                  2.93626e+06   \n",
       "\n",
       "                                               6356543  \\\n",
       "Unnamed: 0                                     6356543   \n",
       "duration_sec                                       436   \n",
       "start_time                    2017-11-01 11:43:59.5740   \n",
       "end_time                      2017-11-01 11:51:16.2780   \n",
       "start_station_id                                     6   \n",
       "start_station_name       The Embarcadero at Sansome St   \n",
       "start_station_latitude                         37.8048   \n",
       "start_station_longitude                       -122.403   \n",
       "end_station_id                                      16   \n",
       "end_station_name               Steuart St at Market St   \n",
       "end_station_latitude                           37.7941   \n",
       "end_station_longitude                         -122.394   \n",
       "bike_id                                           3136   \n",
       "user_type                                   Subscriber   \n",
       "bike_share_for_all_trip                            NaN   \n",
       "rental_access_method                               NaN   \n",
       "is_equity                                          NaN   \n",
       "Unnamed: 0.1                                    180454   \n",
       "\n",
       "                                                                 8230870  \\\n",
       "Unnamed: 0                                                       8230870   \n",
       "duration_sec                                                         216   \n",
       "start_time                                      2018-10-10 10:04:53.3010   \n",
       "end_time                                        2018-10-10 10:08:29.7890   \n",
       "start_station_id                                                      20   \n",
       "start_station_name       Mechanics Monument Plaza (Market St at Bush St)   \n",
       "start_station_latitude                                           37.7913   \n",
       "start_station_longitude                                         -122.399   \n",
       "end_station_id                                                         3   \n",
       "end_station_name            Powell St BART Station (Market St at 4th St)   \n",
       "end_station_latitude                                             37.7864   \n",
       "end_station_longitude                                           -122.405   \n",
       "bike_id                                                             4349   \n",
       "user_type                                                     Subscriber   \n",
       "bike_share_for_all_trip                                              Yes   \n",
       "rental_access_method                                                 NaN   \n",
       "is_equity                                                            NaN   \n",
       "Unnamed: 0.1                                                 2.05478e+06   \n",
       "\n",
       "                                                                   4155384  \\\n",
       "Unnamed: 0                                                         4155384   \n",
       "duration_sec                                                           146   \n",
       "start_time                                        2019-09-23 11:54:53.5820   \n",
       "end_time                                          2019-09-23 11:57:19.8090   \n",
       "start_station_id                                                        47   \n",
       "start_station_name                                   4th St at Harrison St   \n",
       "start_station_latitude                                              37.781   \n",
       "start_station_longitude                                             -122.4   \n",
       "end_station_id                                                         465   \n",
       "end_station_name         San Francisco Caltrain Station (King St at 4th...   \n",
       "end_station_latitude                                               37.7763   \n",
       "end_station_longitude                                             -122.394   \n",
       "bike_id                                                               1813   \n",
       "user_type                                                         Customer   \n",
       "bike_share_for_all_trip                                                 No   \n",
       "rental_access_method                                                   NaN   \n",
       "is_equity                                                              NaN   \n",
       "Unnamed: 0.1                                                           NaN   \n",
       "\n",
       "                                               3675139  \n",
       "Unnamed: 0                                     3675139  \n",
       "duration_sec                                       352  \n",
       "start_time                    2019-07-23 08:53:46.2720  \n",
       "end_time                      2019-07-23 08:59:39.1750  \n",
       "start_station_id                                   270  \n",
       "start_station_name               Ninth St at Heinz Ave  \n",
       "start_station_latitude                         37.8535  \n",
       "start_station_longitude                       -122.289  \n",
       "end_station_id                                     263  \n",
       "end_station_name         Channing Way at San Pablo Ave  \n",
       "end_station_latitude                           37.8628  \n",
       "end_station_longitude                          -122.29  \n",
       "bike_id                                           1121  \n",
       "user_type                                   Subscriber  \n",
       "bike_share_for_all_trip                             No  \n",
       "rental_access_method                               NaN  \n",
       "is_equity                                          NaN  \n",
       "Unnamed: 0.1                                       NaN  "
      ]
     },
     "execution_count": 9,
     "metadata": {},
     "output_type": "execute_result"
    }
   ],
   "source": [
    "#Overview of DataFrame\n",
    "df_clean.sample(5).T"
   ]
  },
  {
   "cell_type": "code",
   "execution_count": 10,
   "metadata": {
    "slideshow": {
     "slide_type": "skip"
    }
   },
   "outputs": [
    {
     "name": "stdout",
     "output_type": "stream",
     "text": [
      "<class 'pandas.core.frame.DataFrame'>\n",
      "RangeIndex: 12352178 entries, 0 to 12352177\n",
      "Data columns (total 18 columns):\n",
      " #   Column                   Dtype  \n",
      "---  ------                   -----  \n",
      " 0   Unnamed: 0               int64  \n",
      " 1   duration_sec             float64\n",
      " 2   start_time               object \n",
      " 3   end_time                 object \n",
      " 4   start_station_id         float64\n",
      " 5   start_station_name       object \n",
      " 6   start_station_latitude   float64\n",
      " 7   start_station_longitude  float64\n",
      " 8   end_station_id           float64\n",
      " 9   end_station_name         object \n",
      " 10  end_station_latitude     float64\n",
      " 11  end_station_longitude    float64\n",
      " 12  bike_id                  float64\n",
      " 13  user_type                object \n",
      " 14  bike_share_for_all_trip  object \n",
      " 15  rental_access_method     object \n",
      " 16  is_equity                object \n",
      " 17  Unnamed: 0.1             float64\n",
      "dtypes: float64(9), int64(1), object(8)\n",
      "memory usage: 1.7+ GB\n"
     ]
    }
   ],
   "source": [
    "#Checking for wrong data types\n",
    "df_clean.info()"
   ]
  },
  {
   "cell_type": "code",
   "execution_count": 11,
   "metadata": {
    "slideshow": {
     "slide_type": "skip"
    }
   },
   "outputs": [],
   "source": [
    "#Fixing columns that have wrong data types\n",
    "df_clean['start_time'] = df_clean['start_time'].astype('datetime64[ns]')\n",
    "df_clean['end_time'] = df_clean['end_time'].astype('datetime64[ns]')\n",
    "df_clean['start_station_id'] = df_clean['start_station_id'].astype(str)\n",
    "df_clean['end_station_id'] = df_clean['end_station_id'].astype(str)\n",
    "df_clean['bike_id'] = df_clean['bike_id'].astype(str)\n",
    "df_clean['user_type'] = df_clean['user_type'].astype('category')"
   ]
  },
  {
   "cell_type": "code",
   "execution_count": 12,
   "metadata": {
    "slideshow": {
     "slide_type": "skip"
    }
   },
   "outputs": [
    {
     "name": "stdout",
     "output_type": "stream",
     "text": [
      "<class 'pandas.core.frame.DataFrame'>\n",
      "RangeIndex: 12352178 entries, 0 to 12352177\n",
      "Data columns (total 18 columns):\n",
      " #   Column                   Dtype         \n",
      "---  ------                   -----         \n",
      " 0   Unnamed: 0               int64         \n",
      " 1   duration_sec             float64       \n",
      " 2   start_time               datetime64[ns]\n",
      " 3   end_time                 datetime64[ns]\n",
      " 4   start_station_id         object        \n",
      " 5   start_station_name       object        \n",
      " 6   start_station_latitude   float64       \n",
      " 7   start_station_longitude  float64       \n",
      " 8   end_station_id           object        \n",
      " 9   end_station_name         object        \n",
      " 10  end_station_latitude     float64       \n",
      " 11  end_station_longitude    float64       \n",
      " 12  bike_id                  object        \n",
      " 13  user_type                category      \n",
      " 14  bike_share_for_all_trip  object        \n",
      " 15  rental_access_method     object        \n",
      " 16  is_equity                object        \n",
      " 17  Unnamed: 0.1             float64       \n",
      "dtypes: category(1), datetime64[ns](2), float64(6), int64(1), object(8)\n",
      "memory usage: 1.6+ GB\n"
     ]
    }
   ],
   "source": [
    "df_clean.info()"
   ]
  },
  {
   "cell_type": "code",
   "execution_count": 13,
   "metadata": {
    "slideshow": {
     "slide_type": "skip"
    }
   },
   "outputs": [],
   "source": [
    "#Fixing duration that has missing values\n",
    "df_clean['duration_sec'] = df_clean['duration_sec'].fillna((df_clean['end_time']-df_clean['start_time']).dt.total_seconds())"
   ]
  },
  {
   "cell_type": "code",
   "execution_count": 14,
   "metadata": {
    "slideshow": {
     "slide_type": "subslide"
    }
   },
   "outputs": [
    {
     "data": {
      "text/html": [
       "<div>\n",
       "<style scoped>\n",
       "    .dataframe tbody tr th:only-of-type {\n",
       "        vertical-align: middle;\n",
       "    }\n",
       "\n",
       "    .dataframe tbody tr th {\n",
       "        vertical-align: top;\n",
       "    }\n",
       "\n",
       "    .dataframe thead th {\n",
       "        text-align: right;\n",
       "    }\n",
       "</style>\n",
       "<table border=\"1\" class=\"dataframe\">\n",
       "  <thead>\n",
       "    <tr style=\"text-align: right;\">\n",
       "      <th></th>\n",
       "      <th>7112958</th>\n",
       "      <th>1783295</th>\n",
       "      <th>1591214</th>\n",
       "      <th>6560276</th>\n",
       "      <th>6464217</th>\n",
       "    </tr>\n",
       "  </thead>\n",
       "  <tbody>\n",
       "    <tr>\n",
       "      <th>Unnamed: 0</th>\n",
       "      <td>7112958</td>\n",
       "      <td>1783295</td>\n",
       "      <td>1591214</td>\n",
       "      <td>6560276</td>\n",
       "      <td>6464217</td>\n",
       "    </tr>\n",
       "    <tr>\n",
       "      <th>duration_sec</th>\n",
       "      <td>1086</td>\n",
       "      <td>625</td>\n",
       "      <td>390</td>\n",
       "      <td>456</td>\n",
       "      <td>844</td>\n",
       "    </tr>\n",
       "    <tr>\n",
       "      <th>start_time</th>\n",
       "      <td>2018-04-08 11:14:08.777000</td>\n",
       "      <td>2018-09-22 12:40:55.427000</td>\n",
       "      <td>2018-08-23 09:23:01.988000</td>\n",
       "      <td>2017-09-03 11:10:33.524000</td>\n",
       "      <td>2017-10-02 08:33:00.112000</td>\n",
       "    </tr>\n",
       "    <tr>\n",
       "      <th>end_time</th>\n",
       "      <td>2018-04-08 11:32:14.910000</td>\n",
       "      <td>2018-09-22 12:51:20.567000</td>\n",
       "      <td>2018-08-23 09:29:32.932000</td>\n",
       "      <td>2017-09-03 11:18:09.829000</td>\n",
       "      <td>2017-10-02 08:47:04.719000</td>\n",
       "    </tr>\n",
       "    <tr>\n",
       "      <th>start_station_id</th>\n",
       "      <td>183.0</td>\n",
       "      <td>107.0</td>\n",
       "      <td>15.0</td>\n",
       "      <td>58.0</td>\n",
       "      <td>66.0</td>\n",
       "    </tr>\n",
       "    <tr>\n",
       "      <th>start_station_name</th>\n",
       "      <td>Telegraph Ave at 19th St</td>\n",
       "      <td>17th St at Dolores St</td>\n",
       "      <td>San Francisco Ferry Building (Harry Bridges Pl...</td>\n",
       "      <td>Market St at 10th St</td>\n",
       "      <td>3rd St at Townsend St</td>\n",
       "    </tr>\n",
       "    <tr>\n",
       "      <th>start_station_latitude</th>\n",
       "      <td>37.8087</td>\n",
       "      <td>37.763</td>\n",
       "      <td>37.7954</td>\n",
       "      <td>37.7766</td>\n",
       "      <td>37.7787</td>\n",
       "    </tr>\n",
       "    <tr>\n",
       "      <th>start_station_longitude</th>\n",
       "      <td>-122.27</td>\n",
       "      <td>-122.426</td>\n",
       "      <td>-122.394</td>\n",
       "      <td>-122.417</td>\n",
       "      <td>-122.393</td>\n",
       "    </tr>\n",
       "    <tr>\n",
       "      <th>end_station_id</th>\n",
       "      <td>210.0</td>\n",
       "      <td>58.0</td>\n",
       "      <td>28.0</td>\n",
       "      <td>45.0</td>\n",
       "      <td>14.0</td>\n",
       "    </tr>\n",
       "    <tr>\n",
       "      <th>end_station_name</th>\n",
       "      <td>45th St at Manila</td>\n",
       "      <td>Market St at 10th St</td>\n",
       "      <td>The Embarcadero at Bryant St</td>\n",
       "      <td>5th St at Howard St</td>\n",
       "      <td>Clay St at Battery St</td>\n",
       "    </tr>\n",
       "    <tr>\n",
       "      <th>end_station_latitude</th>\n",
       "      <td>37.8333</td>\n",
       "      <td>37.7766</td>\n",
       "      <td>37.7872</td>\n",
       "      <td>37.7818</td>\n",
       "      <td>37.795</td>\n",
       "    </tr>\n",
       "    <tr>\n",
       "      <th>end_station_longitude</th>\n",
       "      <td>-122.256</td>\n",
       "      <td>-122.417</td>\n",
       "      <td>-122.388</td>\n",
       "      <td>-122.405</td>\n",
       "      <td>-122.4</td>\n",
       "    </tr>\n",
       "    <tr>\n",
       "      <th>bike_id</th>\n",
       "      <td>818.0</td>\n",
       "      <td>17.0</td>\n",
       "      <td>1067.0</td>\n",
       "      <td>2029.0</td>\n",
       "      <td>58.0</td>\n",
       "    </tr>\n",
       "    <tr>\n",
       "      <th>user_type</th>\n",
       "      <td>Subscriber</td>\n",
       "      <td>Subscriber</td>\n",
       "      <td>Subscriber</td>\n",
       "      <td>Subscriber</td>\n",
       "      <td>Subscriber</td>\n",
       "    </tr>\n",
       "    <tr>\n",
       "      <th>bike_share_for_all_trip</th>\n",
       "      <td>No</td>\n",
       "      <td>No</td>\n",
       "      <td>No</td>\n",
       "      <td>NaN</td>\n",
       "      <td>NaN</td>\n",
       "    </tr>\n",
       "    <tr>\n",
       "      <th>rental_access_method</th>\n",
       "      <td>NaN</td>\n",
       "      <td>NaN</td>\n",
       "      <td>NaN</td>\n",
       "      <td>NaN</td>\n",
       "      <td>NaN</td>\n",
       "    </tr>\n",
       "    <tr>\n",
       "      <th>is_equity</th>\n",
       "      <td>NaN</td>\n",
       "      <td>NaN</td>\n",
       "      <td>NaN</td>\n",
       "      <td>NaN</td>\n",
       "      <td>NaN</td>\n",
       "    </tr>\n",
       "    <tr>\n",
       "      <th>Unnamed: 0.1</th>\n",
       "      <td>936869</td>\n",
       "      <td>NaN</td>\n",
       "      <td>NaN</td>\n",
       "      <td>384187</td>\n",
       "      <td>288128</td>\n",
       "    </tr>\n",
       "  </tbody>\n",
       "</table>\n",
       "</div>"
      ],
      "text/plain": [
       "                                            7112958  \\\n",
       "Unnamed: 0                                  7112958   \n",
       "duration_sec                                   1086   \n",
       "start_time               2018-04-08 11:14:08.777000   \n",
       "end_time                 2018-04-08 11:32:14.910000   \n",
       "start_station_id                              183.0   \n",
       "start_station_name         Telegraph Ave at 19th St   \n",
       "start_station_latitude                      37.8087   \n",
       "start_station_longitude                     -122.27   \n",
       "end_station_id                                210.0   \n",
       "end_station_name                  45th St at Manila   \n",
       "end_station_latitude                        37.8333   \n",
       "end_station_longitude                      -122.256   \n",
       "bike_id                                       818.0   \n",
       "user_type                                Subscriber   \n",
       "bike_share_for_all_trip                          No   \n",
       "rental_access_method                            NaN   \n",
       "is_equity                                       NaN   \n",
       "Unnamed: 0.1                                 936869   \n",
       "\n",
       "                                            1783295  \\\n",
       "Unnamed: 0                                  1783295   \n",
       "duration_sec                                    625   \n",
       "start_time               2018-09-22 12:40:55.427000   \n",
       "end_time                 2018-09-22 12:51:20.567000   \n",
       "start_station_id                              107.0   \n",
       "start_station_name            17th St at Dolores St   \n",
       "start_station_latitude                       37.763   \n",
       "start_station_longitude                    -122.426   \n",
       "end_station_id                                 58.0   \n",
       "end_station_name               Market St at 10th St   \n",
       "end_station_latitude                        37.7766   \n",
       "end_station_longitude                      -122.417   \n",
       "bike_id                                        17.0   \n",
       "user_type                                Subscriber   \n",
       "bike_share_for_all_trip                          No   \n",
       "rental_access_method                            NaN   \n",
       "is_equity                                       NaN   \n",
       "Unnamed: 0.1                                    NaN   \n",
       "\n",
       "                                                                   1591214  \\\n",
       "Unnamed: 0                                                         1591214   \n",
       "duration_sec                                                           390   \n",
       "start_time                                      2018-08-23 09:23:01.988000   \n",
       "end_time                                        2018-08-23 09:29:32.932000   \n",
       "start_station_id                                                      15.0   \n",
       "start_station_name       San Francisco Ferry Building (Harry Bridges Pl...   \n",
       "start_station_latitude                                             37.7954   \n",
       "start_station_longitude                                           -122.394   \n",
       "end_station_id                                                        28.0   \n",
       "end_station_name                              The Embarcadero at Bryant St   \n",
       "end_station_latitude                                               37.7872   \n",
       "end_station_longitude                                             -122.388   \n",
       "bike_id                                                             1067.0   \n",
       "user_type                                                       Subscriber   \n",
       "bike_share_for_all_trip                                                 No   \n",
       "rental_access_method                                                   NaN   \n",
       "is_equity                                                              NaN   \n",
       "Unnamed: 0.1                                                           NaN   \n",
       "\n",
       "                                            6560276  \\\n",
       "Unnamed: 0                                  6560276   \n",
       "duration_sec                                    456   \n",
       "start_time               2017-09-03 11:10:33.524000   \n",
       "end_time                 2017-09-03 11:18:09.829000   \n",
       "start_station_id                               58.0   \n",
       "start_station_name             Market St at 10th St   \n",
       "start_station_latitude                      37.7766   \n",
       "start_station_longitude                    -122.417   \n",
       "end_station_id                                 45.0   \n",
       "end_station_name                5th St at Howard St   \n",
       "end_station_latitude                        37.7818   \n",
       "end_station_longitude                      -122.405   \n",
       "bike_id                                      2029.0   \n",
       "user_type                                Subscriber   \n",
       "bike_share_for_all_trip                         NaN   \n",
       "rental_access_method                            NaN   \n",
       "is_equity                                       NaN   \n",
       "Unnamed: 0.1                                 384187   \n",
       "\n",
       "                                            6464217  \n",
       "Unnamed: 0                                  6464217  \n",
       "duration_sec                                    844  \n",
       "start_time               2017-10-02 08:33:00.112000  \n",
       "end_time                 2017-10-02 08:47:04.719000  \n",
       "start_station_id                               66.0  \n",
       "start_station_name            3rd St at Townsend St  \n",
       "start_station_latitude                      37.7787  \n",
       "start_station_longitude                    -122.393  \n",
       "end_station_id                                 14.0  \n",
       "end_station_name              Clay St at Battery St  \n",
       "end_station_latitude                         37.795  \n",
       "end_station_longitude                        -122.4  \n",
       "bike_id                                        58.0  \n",
       "user_type                                Subscriber  \n",
       "bike_share_for_all_trip                         NaN  \n",
       "rental_access_method                            NaN  \n",
       "is_equity                                       NaN  \n",
       "Unnamed: 0.1                                 288128  "
      ]
     },
     "execution_count": 14,
     "metadata": {},
     "output_type": "execute_result"
    }
   ],
   "source": [
    "#Making sure there is no more missing values \n",
    "df_clean.sample(5).T"
   ]
  },
  {
   "cell_type": "code",
   "execution_count": 15,
   "metadata": {
    "slideshow": {
     "slide_type": "skip"
    }
   },
   "outputs": [
    {
     "data": {
      "text/html": [
       "<div>\n",
       "<style scoped>\n",
       "    .dataframe tbody tr th:only-of-type {\n",
       "        vertical-align: middle;\n",
       "    }\n",
       "\n",
       "    .dataframe tbody tr th {\n",
       "        vertical-align: top;\n",
       "    }\n",
       "\n",
       "    .dataframe thead th {\n",
       "        text-align: right;\n",
       "    }\n",
       "</style>\n",
       "<table border=\"1\" class=\"dataframe\">\n",
       "  <thead>\n",
       "    <tr style=\"text-align: right;\">\n",
       "      <th></th>\n",
       "      <th>Unnamed: 0</th>\n",
       "      <th>duration_sec</th>\n",
       "      <th>start_time</th>\n",
       "      <th>end_time</th>\n",
       "      <th>start_station_id</th>\n",
       "      <th>start_station_name</th>\n",
       "      <th>start_station_latitude</th>\n",
       "      <th>start_station_longitude</th>\n",
       "      <th>end_station_id</th>\n",
       "      <th>end_station_name</th>\n",
       "      <th>end_station_latitude</th>\n",
       "      <th>end_station_longitude</th>\n",
       "      <th>bike_id</th>\n",
       "      <th>user_type</th>\n",
       "      <th>bike_share_for_all_trip</th>\n",
       "      <th>rental_access_method</th>\n",
       "      <th>is_equity</th>\n",
       "      <th>Unnamed: 0.1</th>\n",
       "    </tr>\n",
       "  </thead>\n",
       "  <tbody>\n",
       "    <tr>\n",
       "      <th>5816986</th>\n",
       "      <td>5816986</td>\n",
       "      <td>-12.0</td>\n",
       "      <td>2020-04-18 19:42:31</td>\n",
       "      <td>2020-04-18 19:42:19</td>\n",
       "      <td>454.0</td>\n",
       "      <td>7th Ave at Cabrillo St</td>\n",
       "      <td>37.775200</td>\n",
       "      <td>-122.465000</td>\n",
       "      <td>370.0</td>\n",
       "      <td>Jones St at Post St</td>\n",
       "      <td>37.787300</td>\n",
       "      <td>-122.413300</td>\n",
       "      <td>nan</td>\n",
       "      <td>NaN</td>\n",
       "      <td>NaN</td>\n",
       "      <td>NaN</td>\n",
       "      <td>NaN</td>\n",
       "      <td>NaN</td>\n",
       "    </tr>\n",
       "    <tr>\n",
       "      <th>5831369</th>\n",
       "      <td>5831369</td>\n",
       "      <td>-11.0</td>\n",
       "      <td>2020-04-29 17:26:34</td>\n",
       "      <td>2020-04-29 17:26:23</td>\n",
       "      <td>21.0</td>\n",
       "      <td>Montgomery St BART Station (Market St at 2nd St)</td>\n",
       "      <td>37.789600</td>\n",
       "      <td>-122.400800</td>\n",
       "      <td>3.0</td>\n",
       "      <td>Powell St BART Station (Market St at 4th St)</td>\n",
       "      <td>37.786400</td>\n",
       "      <td>-122.404900</td>\n",
       "      <td>nan</td>\n",
       "      <td>NaN</td>\n",
       "      <td>NaN</td>\n",
       "      <td>NaN</td>\n",
       "      <td>NaN</td>\n",
       "      <td>NaN</td>\n",
       "    </tr>\n",
       "    <tr>\n",
       "      <th>5832002</th>\n",
       "      <td>5832002</td>\n",
       "      <td>-20.0</td>\n",
       "      <td>2020-04-29 15:41:36</td>\n",
       "      <td>2020-04-29 15:41:16</td>\n",
       "      <td>84.0</td>\n",
       "      <td>Duboce Park</td>\n",
       "      <td>37.769200</td>\n",
       "      <td>-122.433800</td>\n",
       "      <td>125.0</td>\n",
       "      <td>20th St at Bryant St</td>\n",
       "      <td>37.759200</td>\n",
       "      <td>-122.409900</td>\n",
       "      <td>nan</td>\n",
       "      <td>NaN</td>\n",
       "      <td>NaN</td>\n",
       "      <td>NaN</td>\n",
       "      <td>NaN</td>\n",
       "      <td>NaN</td>\n",
       "    </tr>\n",
       "    <tr>\n",
       "      <th>5832575</th>\n",
       "      <td>5832575</td>\n",
       "      <td>-8.0</td>\n",
       "      <td>2020-04-24 18:07:09</td>\n",
       "      <td>2020-04-24 18:07:01</td>\n",
       "      <td>196.0</td>\n",
       "      <td>Grand Ave at Perkins St</td>\n",
       "      <td>37.808900</td>\n",
       "      <td>-122.256500</td>\n",
       "      <td>177.0</td>\n",
       "      <td>MacArthur Blvd at Telegraph Ave</td>\n",
       "      <td>37.826300</td>\n",
       "      <td>-122.265100</td>\n",
       "      <td>nan</td>\n",
       "      <td>NaN</td>\n",
       "      <td>NaN</td>\n",
       "      <td>NaN</td>\n",
       "      <td>NaN</td>\n",
       "      <td>NaN</td>\n",
       "    </tr>\n",
       "    <tr>\n",
       "      <th>5832951</th>\n",
       "      <td>5832951</td>\n",
       "      <td>-8.0</td>\n",
       "      <td>2020-04-25 11:38:08</td>\n",
       "      <td>2020-04-25 11:38:00</td>\n",
       "      <td>27.0</td>\n",
       "      <td>Beale St at Harrison St</td>\n",
       "      <td>37.788100</td>\n",
       "      <td>-122.391900</td>\n",
       "      <td>400.0</td>\n",
       "      <td>Buchanan St at North Point St</td>\n",
       "      <td>37.804300</td>\n",
       "      <td>-122.433500</td>\n",
       "      <td>nan</td>\n",
       "      <td>NaN</td>\n",
       "      <td>NaN</td>\n",
       "      <td>NaN</td>\n",
       "      <td>NaN</td>\n",
       "      <td>NaN</td>\n",
       "    </tr>\n",
       "    <tr>\n",
       "      <th>...</th>\n",
       "      <td>...</td>\n",
       "      <td>...</td>\n",
       "      <td>...</td>\n",
       "      <td>...</td>\n",
       "      <td>...</td>\n",
       "      <td>...</td>\n",
       "      <td>...</td>\n",
       "      <td>...</td>\n",
       "      <td>...</td>\n",
       "      <td>...</td>\n",
       "      <td>...</td>\n",
       "      <td>...</td>\n",
       "      <td>...</td>\n",
       "      <td>...</td>\n",
       "      <td>...</td>\n",
       "      <td>...</td>\n",
       "      <td>...</td>\n",
       "      <td>...</td>\n",
       "    </tr>\n",
       "    <tr>\n",
       "      <th>12342386</th>\n",
       "      <td>12342386</td>\n",
       "      <td>-14.0</td>\n",
       "      <td>2020-06-05 15:36:17</td>\n",
       "      <td>2020-06-05 15:36:03</td>\n",
       "      <td>461.0</td>\n",
       "      <td>Terry Francois Blvd at Mission Bay Blvd N</td>\n",
       "      <td>37.771329</td>\n",
       "      <td>-122.386622</td>\n",
       "      <td>461.0</td>\n",
       "      <td>Terry Francois Blvd at Mission Bay Blvd N</td>\n",
       "      <td>37.771330</td>\n",
       "      <td>-122.386622</td>\n",
       "      <td>nan</td>\n",
       "      <td>NaN</td>\n",
       "      <td>NaN</td>\n",
       "      <td>NaN</td>\n",
       "      <td>NaN</td>\n",
       "      <td>6166297.0</td>\n",
       "    </tr>\n",
       "    <tr>\n",
       "      <th>12346948</th>\n",
       "      <td>12346948</td>\n",
       "      <td>-28.0</td>\n",
       "      <td>2020-06-29 08:12:08</td>\n",
       "      <td>2020-06-29 08:11:40</td>\n",
       "      <td>375.0</td>\n",
       "      <td>Grove St at Masonic Ave</td>\n",
       "      <td>37.774836</td>\n",
       "      <td>-122.446545</td>\n",
       "      <td>13.0</td>\n",
       "      <td>Commercial St at Montgomery St</td>\n",
       "      <td>37.794231</td>\n",
       "      <td>-122.402923</td>\n",
       "      <td>nan</td>\n",
       "      <td>NaN</td>\n",
       "      <td>NaN</td>\n",
       "      <td>NaN</td>\n",
       "      <td>NaN</td>\n",
       "      <td>6170859.0</td>\n",
       "    </tr>\n",
       "    <tr>\n",
       "      <th>12347699</th>\n",
       "      <td>12347699</td>\n",
       "      <td>-6.0</td>\n",
       "      <td>2020-06-06 13:28:28</td>\n",
       "      <td>2020-06-06 13:28:22</td>\n",
       "      <td>66.0</td>\n",
       "      <td>3rd St at Townsend St</td>\n",
       "      <td>37.778741</td>\n",
       "      <td>-122.392740</td>\n",
       "      <td>461.0</td>\n",
       "      <td>Terry Francois Blvd at Mission Bay Blvd N</td>\n",
       "      <td>37.771330</td>\n",
       "      <td>-122.386622</td>\n",
       "      <td>nan</td>\n",
       "      <td>NaN</td>\n",
       "      <td>NaN</td>\n",
       "      <td>NaN</td>\n",
       "      <td>NaN</td>\n",
       "      <td>6171610.0</td>\n",
       "    </tr>\n",
       "    <tr>\n",
       "      <th>12347758</th>\n",
       "      <td>12347758</td>\n",
       "      <td>-12.0</td>\n",
       "      <td>2020-06-20 14:13:17</td>\n",
       "      <td>2020-06-20 14:13:05</td>\n",
       "      <td>178.0</td>\n",
       "      <td>Broadway at 30th St</td>\n",
       "      <td>37.819381</td>\n",
       "      <td>-122.261928</td>\n",
       "      <td>230.0</td>\n",
       "      <td>14th St at Mandela Pkwy</td>\n",
       "      <td>37.810743</td>\n",
       "      <td>-122.291415</td>\n",
       "      <td>nan</td>\n",
       "      <td>NaN</td>\n",
       "      <td>NaN</td>\n",
       "      <td>NaN</td>\n",
       "      <td>NaN</td>\n",
       "      <td>6171669.0</td>\n",
       "    </tr>\n",
       "    <tr>\n",
       "      <th>12349295</th>\n",
       "      <td>12349295</td>\n",
       "      <td>-826.0</td>\n",
       "      <td>2020-06-19 21:48:20</td>\n",
       "      <td>2020-06-19 21:34:34</td>\n",
       "      <td>197.0</td>\n",
       "      <td>El Embarcadero at Grand Ave</td>\n",
       "      <td>37.808847</td>\n",
       "      <td>-122.249679</td>\n",
       "      <td>230.0</td>\n",
       "      <td>14th St at Mandela Pkwy</td>\n",
       "      <td>37.810743</td>\n",
       "      <td>-122.291415</td>\n",
       "      <td>nan</td>\n",
       "      <td>NaN</td>\n",
       "      <td>NaN</td>\n",
       "      <td>NaN</td>\n",
       "      <td>NaN</td>\n",
       "      <td>6173206.0</td>\n",
       "    </tr>\n",
       "  </tbody>\n",
       "</table>\n",
       "<p>626 rows × 18 columns</p>\n",
       "</div>"
      ],
      "text/plain": [
       "          Unnamed: 0  duration_sec          start_time            end_time  \\\n",
       "5816986      5816986         -12.0 2020-04-18 19:42:31 2020-04-18 19:42:19   \n",
       "5831369      5831369         -11.0 2020-04-29 17:26:34 2020-04-29 17:26:23   \n",
       "5832002      5832002         -20.0 2020-04-29 15:41:36 2020-04-29 15:41:16   \n",
       "5832575      5832575          -8.0 2020-04-24 18:07:09 2020-04-24 18:07:01   \n",
       "5832951      5832951          -8.0 2020-04-25 11:38:08 2020-04-25 11:38:00   \n",
       "...              ...           ...                 ...                 ...   \n",
       "12342386    12342386         -14.0 2020-06-05 15:36:17 2020-06-05 15:36:03   \n",
       "12346948    12346948         -28.0 2020-06-29 08:12:08 2020-06-29 08:11:40   \n",
       "12347699    12347699          -6.0 2020-06-06 13:28:28 2020-06-06 13:28:22   \n",
       "12347758    12347758         -12.0 2020-06-20 14:13:17 2020-06-20 14:13:05   \n",
       "12349295    12349295        -826.0 2020-06-19 21:48:20 2020-06-19 21:34:34   \n",
       "\n",
       "         start_station_id                                start_station_name  \\\n",
       "5816986             454.0                            7th Ave at Cabrillo St   \n",
       "5831369              21.0  Montgomery St BART Station (Market St at 2nd St)   \n",
       "5832002              84.0                                       Duboce Park   \n",
       "5832575             196.0                           Grand Ave at Perkins St   \n",
       "5832951              27.0                           Beale St at Harrison St   \n",
       "...                   ...                                               ...   \n",
       "12342386            461.0         Terry Francois Blvd at Mission Bay Blvd N   \n",
       "12346948            375.0                           Grove St at Masonic Ave   \n",
       "12347699             66.0                             3rd St at Townsend St   \n",
       "12347758            178.0                               Broadway at 30th St   \n",
       "12349295            197.0                       El Embarcadero at Grand Ave   \n",
       "\n",
       "          start_station_latitude  start_station_longitude end_station_id  \\\n",
       "5816986                37.775200              -122.465000          370.0   \n",
       "5831369                37.789600              -122.400800            3.0   \n",
       "5832002                37.769200              -122.433800          125.0   \n",
       "5832575                37.808900              -122.256500          177.0   \n",
       "5832951                37.788100              -122.391900          400.0   \n",
       "...                          ...                      ...            ...   \n",
       "12342386               37.771329              -122.386622          461.0   \n",
       "12346948               37.774836              -122.446545           13.0   \n",
       "12347699               37.778741              -122.392740          461.0   \n",
       "12347758               37.819381              -122.261928          230.0   \n",
       "12349295               37.808847              -122.249679          230.0   \n",
       "\n",
       "                                      end_station_name  end_station_latitude  \\\n",
       "5816986                            Jones St at Post St             37.787300   \n",
       "5831369   Powell St BART Station (Market St at 4th St)             37.786400   \n",
       "5832002                           20th St at Bryant St             37.759200   \n",
       "5832575                MacArthur Blvd at Telegraph Ave             37.826300   \n",
       "5832951                  Buchanan St at North Point St             37.804300   \n",
       "...                                                ...                   ...   \n",
       "12342386     Terry Francois Blvd at Mission Bay Blvd N             37.771330   \n",
       "12346948                Commercial St at Montgomery St             37.794231   \n",
       "12347699     Terry Francois Blvd at Mission Bay Blvd N             37.771330   \n",
       "12347758                       14th St at Mandela Pkwy             37.810743   \n",
       "12349295                       14th St at Mandela Pkwy             37.810743   \n",
       "\n",
       "          end_station_longitude bike_id user_type bike_share_for_all_trip  \\\n",
       "5816986             -122.413300     nan       NaN                     NaN   \n",
       "5831369             -122.404900     nan       NaN                     NaN   \n",
       "5832002             -122.409900     nan       NaN                     NaN   \n",
       "5832575             -122.265100     nan       NaN                     NaN   \n",
       "5832951             -122.433500     nan       NaN                     NaN   \n",
       "...                         ...     ...       ...                     ...   \n",
       "12342386            -122.386622     nan       NaN                     NaN   \n",
       "12346948            -122.402923     nan       NaN                     NaN   \n",
       "12347699            -122.386622     nan       NaN                     NaN   \n",
       "12347758            -122.291415     nan       NaN                     NaN   \n",
       "12349295            -122.291415     nan       NaN                     NaN   \n",
       "\n",
       "         rental_access_method is_equity  Unnamed: 0.1  \n",
       "5816986                   NaN       NaN           NaN  \n",
       "5831369                   NaN       NaN           NaN  \n",
       "5832002                   NaN       NaN           NaN  \n",
       "5832575                   NaN       NaN           NaN  \n",
       "5832951                   NaN       NaN           NaN  \n",
       "...                       ...       ...           ...  \n",
       "12342386                  NaN       NaN     6166297.0  \n",
       "12346948                  NaN       NaN     6170859.0  \n",
       "12347699                  NaN       NaN     6171610.0  \n",
       "12347758                  NaN       NaN     6171669.0  \n",
       "12349295                  NaN       NaN     6173206.0  \n",
       "\n",
       "[626 rows x 18 columns]"
      ]
     },
     "execution_count": 15,
     "metadata": {},
     "output_type": "execute_result"
    }
   ],
   "source": [
    "#Checking for negative duration \n",
    "df_clean[df_clean['duration_sec'] < 0]"
   ]
  },
  {
   "cell_type": "code",
   "execution_count": 16,
   "metadata": {
    "slideshow": {
     "slide_type": "skip"
    }
   },
   "outputs": [],
   "source": [
    "#Making all durations positive\n",
    "df_clean['duration_sec'] = df_clean['duration_sec'].abs()"
   ]
  },
  {
   "cell_type": "code",
   "execution_count": 17,
   "metadata": {
    "slideshow": {
     "slide_type": "skip"
    }
   },
   "outputs": [
    {
     "data": {
      "text/html": [
       "<div>\n",
       "<style scoped>\n",
       "    .dataframe tbody tr th:only-of-type {\n",
       "        vertical-align: middle;\n",
       "    }\n",
       "\n",
       "    .dataframe tbody tr th {\n",
       "        vertical-align: top;\n",
       "    }\n",
       "\n",
       "    .dataframe thead th {\n",
       "        text-align: right;\n",
       "    }\n",
       "</style>\n",
       "<table border=\"1\" class=\"dataframe\">\n",
       "  <thead>\n",
       "    <tr style=\"text-align: right;\">\n",
       "      <th></th>\n",
       "      <th>Unnamed: 0</th>\n",
       "      <th>duration_sec</th>\n",
       "      <th>start_time</th>\n",
       "      <th>end_time</th>\n",
       "      <th>start_station_id</th>\n",
       "      <th>start_station_name</th>\n",
       "      <th>start_station_latitude</th>\n",
       "      <th>start_station_longitude</th>\n",
       "      <th>end_station_id</th>\n",
       "      <th>end_station_name</th>\n",
       "      <th>end_station_latitude</th>\n",
       "      <th>end_station_longitude</th>\n",
       "      <th>bike_id</th>\n",
       "      <th>user_type</th>\n",
       "      <th>bike_share_for_all_trip</th>\n",
       "      <th>rental_access_method</th>\n",
       "      <th>is_equity</th>\n",
       "      <th>Unnamed: 0.1</th>\n",
       "    </tr>\n",
       "  </thead>\n",
       "  <tbody>\n",
       "  </tbody>\n",
       "</table>\n",
       "</div>"
      ],
      "text/plain": [
       "Empty DataFrame\n",
       "Columns: [Unnamed: 0, duration_sec, start_time, end_time, start_station_id, start_station_name, start_station_latitude, start_station_longitude, end_station_id, end_station_name, end_station_latitude, end_station_longitude, bike_id, user_type, bike_share_for_all_trip, rental_access_method, is_equity, Unnamed: 0.1]\n",
       "Index: []"
      ]
     },
     "execution_count": 17,
     "metadata": {},
     "output_type": "execute_result"
    }
   ],
   "source": [
    "#Double checking \n",
    "df_clean[df_clean['duration_sec'] < 0]"
   ]
  },
  {
   "cell_type": "markdown",
   "metadata": {
    "slideshow": {
     "slide_type": "slide"
    }
   },
   "source": [
    "<h1>Univariate Eploration </h1>"
   ]
  },
  {
   "cell_type": "markdown",
   "metadata": {
    "slideshow": {
     "slide_type": "slide"
    }
   },
   "source": [
    "In this section, I will investigate distributions of individual variables."
   ]
  },
  {
   "cell_type": "markdown",
   "metadata": {
    "slideshow": {
     "slide_type": "slide"
    }
   },
   "source": [
    "<h3> User Types </h3>"
   ]
  },
  {
   "cell_type": "code",
   "execution_count": 18,
   "metadata": {
    "slideshow": {
     "slide_type": "subslide"
    }
   },
   "outputs": [
    {
     "data": {
      "image/png": "[encoded data removed]",
      "text/plain": [
       "<Figure size 432x288 with 1 Axes>"
      ]
     },
     "metadata": {},
     "output_type": "display_data"
    }
   ],
   "source": [
    "#Distribution of type of users\n",
    "data = df_clean['user_type'].value_counts()/df_clean['user_type'].value_counts().sum()\n",
    "plt.pie(data, labels = data.index, autopct='%1.1f%%', shadow = 'True' , startangle = 90)\n",
    "plt.title('User Types');"
   ]
  },
  {
   "cell_type": "markdown",
   "metadata": {
    "slideshow": {
     "slide_type": "slide"
    }
   },
   "source": [
    "We can observe that almost 3/4 of the customers are subscribers."
   ]
  },
  {
   "cell_type": "markdown",
   "metadata": {
    "slideshow": {
     "slide_type": "slide"
    }
   },
   "source": [
    "<h3> Duration Of Rides </h3>"
   ]
  },
  {
   "cell_type": "code",
   "execution_count": 54,
   "metadata": {
    "slideshow": {
     "slide_type": "subslide"
    }
   },
   "outputs": [
    {
     "data": {
      "text/plain": [
       "count    1.235218e+07\n",
       "mean     9.058074e+02\n",
       "std      6.130849e+03\n",
       "min      0.000000e+00\n",
       "25%      3.630000e+02\n",
       "50%      5.810000e+02\n",
       "75%      9.180000e+02\n",
       "max      3.283732e+06\n",
       "Name: duration_sec, dtype: float64"
      ]
     },
     "execution_count": 54,
     "metadata": {},
     "output_type": "execute_result"
    }
   ],
   "source": [
    "#Looking at the duration statistics\n",
    "df_clean['duration_sec'].describe()"
   ]
  },
  {
   "cell_type": "code",
   "execution_count": 55,
   "metadata": {
    "slideshow": {
     "slide_type": "subslide"
    }
   },
   "outputs": [
    {
     "data": {
      "image/png": "[encoded data removed]",
      "text/plain": [
       "<Figure size 432x288 with 1 Axes>"
      ]
     },
     "metadata": {
      "needs_background": "light"
     },
     "output_type": "display_data"
    }
   ],
   "source": [
    "#Distribution of duration of rides\n",
    "data = df_clean['duration_sec']\n",
    "plt.hist(data , bins = 10000 , rwidth=.9)\n",
    "plt.xlim(0,9000)\n",
    "plt.title('Duration Of Rides In Seconds')\n",
    "plt.xlabel('Duration In Seconds')\n",
    "plt.ylabel('Number Of Rides');"
   ]
  },
  {
   "cell_type": "markdown",
   "metadata": {
    "slideshow": {
     "slide_type": "slide"
    }
   },
   "source": [
    "From the statistics, we can observe that there are outliers in the duration of rides due to the maximum duration being an extremely high number. By looking at the graph we can conclude that the majority of the rides are under 16 minutes. "
   ]
  },
  {
   "cell_type": "markdown",
   "metadata": {
    "slideshow": {
     "slide_type": "slide"
    }
   },
   "source": [
    "<h3> Number Of Rides By Different Measures Of Time"
   ]
  },
  {
   "cell_type": "code",
   "execution_count": 21,
   "metadata": {
    "slideshow": {
     "slide_type": "subslide"
    }
   },
   "outputs": [
    {
     "data": {
      "image/png": "[encoded data removed]",
      "text/plain": [
       "<Figure size 432x288 with 1 Axes>"
      ]
     },
     "metadata": {
      "needs_background": "light"
     },
     "output_type": "display_data"
    }
   ],
   "source": [
    "#Distribution of number of rides by hours of the day\n",
    "data = df_clean['start_time'].dt.hour\n",
    "plt.hist(data,rwidth=.9, bins = 24)\n",
    "plt.title('Busiest Hours')\n",
    "plt.xlabel('Hour Of The Day')\n",
    "plt.ylabel('Number Of Rides');"
   ]
  },
  {
   "cell_type": "markdown",
   "metadata": {
    "slideshow": {
     "slide_type": "slide"
    }
   },
   "source": [
    "As expected the distribution is bimodal. The two peaks are during the normal rush hours of a day. The first between the hours of 7AM and 9AM when people are going to work. And the second peak is between the hours of 4PM and 6PM when people are getting off of work."
   ]
  },
  {
   "cell_type": "code",
   "execution_count": 51,
   "metadata": {
    "slideshow": {
     "slide_type": "subslide"
    }
   },
   "outputs": [
    {
     "data": {
      "image/png": "[encoded data removed]",
      "text/plain": [
       "<Figure size 432x288 with 1 Axes>"
      ]
     },
     "metadata": {
      "needs_background": "light"
     },
     "output_type": "display_data"
    }
   ],
   "source": [
    "#Distribution of rides per months\n",
    "data = df_clean['start_time'].dt.month\n",
    "plt.hist(data,rwidth=.9, bins = 12)\n",
    "plt.title('Busiest Months')\n",
    "plt.xlabel('Month')\n",
    "plt.ylabel('Number Of Rides');"
   ]
  },
  {
   "cell_type": "markdown",
   "metadata": {
    "slideshow": {
     "slide_type": "slide"
    }
   },
   "source": [
    "According to the distribution the busiest month has been February. Where the lowest have been November and December. Which could be due to less people at work due to the holidays. We will check this distribution by year later on. "
   ]
  },
  {
   "cell_type": "code",
   "execution_count": 23,
   "metadata": {
    "slideshow": {
     "slide_type": "subslide"
    }
   },
   "outputs": [
    {
     "data": {
      "image/png": "[encoded data removed]",
      "text/plain": [
       "<Figure size 432x288 with 1 Axes>"
      ]
     },
     "metadata": {
      "needs_background": "light"
     },
     "output_type": "display_data"
    }
   ],
   "source": [
    "#Distribution of rides per year\n",
    "data = df_clean['start_time'].dt.year\n",
    "plt.hist(data, bins = 3)\n",
    "plt.title('Busiest Year')\n",
    "plt.xlabel('Year')\n",
    "plt.ylabel('Number Of Rides');"
   ]
  },
  {
   "cell_type": "markdown",
   "metadata": {
    "slideshow": {
     "slide_type": "slide"
    }
   },
   "source": [
    "We can observe a gradual increase of rides throughout the years which is very positive to continue business. "
   ]
  },
  {
   "cell_type": "markdown",
   "metadata": {
    "slideshow": {
     "slide_type": "slide"
    }
   },
   "source": [
    "### Discuss the distribution(s) of your variable(s) of interest. Were there any unusual points? Did you need to perform any transformations?\n"
   ]
  },
  {
   "cell_type": "markdown",
   "metadata": {
    "slideshow": {
     "slide_type": "slide"
    }
   },
   "source": [
    "Most of the distributions we found were expected. From the majority users being subscribers, to the busiest hours being during the rush hour time of the day and how business has gradually increased every year. \n",
    "The unusual point we have found however is the distribution of rides when we look at each month. I did not expect the busiest month to be February. Which is something I look at a little bit deeper later on. \n",
    "There was no need to perform any transformations. "
   ]
  },
  {
   "cell_type": "markdown",
   "metadata": {
    "slideshow": {
     "slide_type": "slide"
    }
   },
   "source": [
    "<h1> Bivariate Exploration </h1>"
   ]
  },
  {
   "cell_type": "markdown",
   "metadata": {
    "slideshow": {
     "slide_type": "slide"
    }
   },
   "source": [
    "In this section I will investigate relationships between pairs of variables in our data."
   ]
  },
  {
   "cell_type": "code",
   "execution_count": 24,
   "metadata": {
    "slideshow": {
     "slide_type": "subslide"
    }
   },
   "outputs": [
    {
     "data": {
      "image/png": "[encoded data removed]",
      "text/plain": [
       "<Figure size 432x288 with 1 Axes>"
      ]
     },
     "metadata": {
      "needs_background": "light"
     },
     "output_type": "display_data"
    }
   ],
   "source": [
    "#Distribution of the duration by users\n",
    "majority = df_clean[df_clean['duration_sec'] < 2000]\n",
    "sns.boxplot(data =majority , y='user_type', x='duration_sec')\n",
    "plt.title('Duration By Users')\n",
    "plt.xlabel('Duration In Seconds')\n",
    "plt.ylabel('Type Of Users');\n"
   ]
  },
  {
   "cell_type": "markdown",
   "metadata": {
    "slideshow": {
     "slide_type": "slide"
    }
   },
   "source": [
    "The distribution shows us that customers on average take a longer trip than subscribers. "
   ]
  },
  {
   "cell_type": "code",
   "execution_count": 46,
   "metadata": {
    "slideshow": {
     "slide_type": "subslide"
    }
   },
   "outputs": [
    {
     "data": {
      "image/png": "[encoded data removed]",
      "text/plain": [
       "<Figure size 432x288 with 1 Axes>"
      ]
     },
     "metadata": {
      "needs_background": "light"
     },
     "output_type": "display_data"
    }
   ],
   "source": [
    "#Distribution of duration trips per day\n",
    "df_clean['daysofweek'] = df_clean['start_time'].dt.dayofweek\n",
    "\n",
    "plt.scatter(data = df_clean , x = 'daysofweek' , y='duration_sec')\n",
    "plt.title('Duration Of Trip Per Day')\n",
    "plt.xlabel('Days Of The Week')\n",
    "plt.ylabel('Duration Of Trip In Seconds');\n"
   ]
  },
  {
   "cell_type": "markdown",
   "metadata": {
    "slideshow": {
     "slide_type": "slide"
    }
   },
   "source": [
    "The distrution is not as expected. Thursday seem like the day where people take the longest trips. And the weekends are the days where people take the shortest trips on average. "
   ]
  },
  {
   "cell_type": "code",
   "execution_count": 26,
   "metadata": {
    "slideshow": {
     "slide_type": "subslide"
    }
   },
   "outputs": [
    {
     "data": {
      "image/png": "[encoded data removed]",
      "text/plain": [
       "<Figure size 432x288 with 1 Axes>"
      ]
     },
     "metadata": {
      "needs_background": "light"
     },
     "output_type": "display_data"
    }
   ],
   "source": [
    "#Distribution of duration of trips by year\n",
    "df_clean['year'] = df_clean['start_time'].dt.year\n",
    "ax = sns.pointplot(data=df_clean, x='year' , y='duration_sec')\n",
    "plt.xlabel('Years')\n",
    "plt.ylabel('Trip Duration in Seconds')\n",
    "plt.title('Average Time Trip Each Year');"
   ]
  },
  {
   "cell_type": "markdown",
   "metadata": {
    "slideshow": {
     "slide_type": "slide"
    }
   },
   "source": [
    "The distribution is a little bit of a worry considering that the duration has not been consistent. This year has been a good year so far however. The longer the trips are, the more money the company gets of course."
   ]
  },
  {
   "cell_type": "markdown",
   "metadata": {
    "slideshow": {
     "slide_type": "slide"
    }
   },
   "source": [
    "### Discuss the distribution(s) of your variable(s) of interest. Were there any unusual points? Did you need to perform any transformations?"
   ]
  },
  {
   "cell_type": "markdown",
   "metadata": {
    "slideshow": {
     "slide_type": "slide"
    }
   },
   "source": [
    "From the distribution I have seen that the subscribers on average take shorter trip. A reason might be because these subscribers are people that work in the city and only take the bike for the convenience. Whereas a customer might be tourists\n",
    "that are sightseeing and would then travel longer distances. <p>\n",
    "And the duration throughout the years has not been consistent with the year of 2018 and 2019 being the lowest so far. "
   ]
  },
  {
   "cell_type": "markdown",
   "metadata": {
    "slideshow": {
     "slide_type": "slide"
    }
   },
   "source": [
    "<h1> Multivariate Exploration </h1>"
   ]
  },
  {
   "cell_type": "markdown",
   "metadata": {
    "slideshow": {
     "slide_type": "slide"
    }
   },
   "source": [
    "In this section I will create plots of three or more variables to investigate the data even further."
   ]
  },
  {
   "cell_type": "code",
   "execution_count": 56,
   "metadata": {
    "slideshow": {
     "slide_type": "subslide"
    }
   },
   "outputs": [
    {
     "data": {
      "text/plain": [
       "<Figure size 720x288 with 0 Axes>"
      ]
     },
     "metadata": {},
     "output_type": "display_data"
    },
    {
     "data": {
      "image/png": "[encoded data removed]",
      "text/plain": [
       "<Figure size 432x432 with 4 Axes>"
      ]
     },
     "metadata": {
      "needs_background": "light"
     },
     "output_type": "display_data"
    }
   ],
   "source": [
    "#Distribution of rides by months and year\n",
    "df_clean['month'] = df_clean['start_time'].dt.month\n",
    "g = sns.FacetGrid (data = df_clean, col='year', col_wrap=2)\n",
    "bins = np.linspace(0,12)\n",
    "g.map(plt.hist, \"month\" , bins=bins);"
   ]
  },
  {
   "cell_type": "markdown",
   "metadata": {
    "slideshow": {
     "slide_type": "slide"
    }
   },
   "source": [
    "We have seen in the previous distribution that February has been the busiest month. This might be due to the strong February for this year that squewed the distribution. When you compare the year of 2018 and 2019 you do see that the most popular months are during the summer and the least popular months are at the end of the year. "
   ]
  },
  {
   "cell_type": "code",
   "execution_count": 60,
   "metadata": {
    "slideshow": {
     "slide_type": "subslide"
    }
   },
   "outputs": [
    {
     "data": {
      "image/png": "[encoded data removed]",
      "text/plain": [
       "<Figure size 720x360 with 3 Axes>"
      ]
     },
     "metadata": {
      "needs_background": "light"
     },
     "output_type": "display_data"
    }
   ],
   "source": [
    "#Distribution of the duration per trip in the week by subscribers\n",
    "xbin = np.arange(0,7+1,1)\n",
    "ybin = np.arange(0,4200+250,250)\n",
    "\n",
    "g = sns.FacetGrid (data = df_clean , col='user_type', height=5)\n",
    "g.map(plt.hist2d, 'daysofweek', 'duration_sec', cmin=0.5, cmap = 'inferno_r', bins=[xbin,ybin])\n",
    "plt.colorbar();"
   ]
  },
  {
   "cell_type": "markdown",
   "metadata": {
    "slideshow": {
     "slide_type": "slide"
    }
   },
   "source": [
    "From this heatmap we can similarities between customers and subscribers. We can see that both have an average of 4 and 12 min rides during the week. However customers are not only more present during the weekend they take longer trips as well. "
   ]
  },
  {
   "cell_type": "code",
   "execution_count": 28,
   "metadata": {
    "slideshow": {
     "slide_type": "subslide"
    }
   },
   "outputs": [
    {
     "data": {
      "image/png": "[encoded data removed]",
      "text/plain": [
       "<Figure size 720x360 with 3 Axes>"
      ]
     },
     "metadata": {
      "needs_background": "light"
     },
     "output_type": "display_data"
    }
   ],
   "source": [
    "#Distribution of the duration per trip by years and subscribers\n",
    "df_clean['year'] = df_clean['start_time'].dt.year\n",
    "xbin = np.arange(2017,2021+1,1)\n",
    "ybin = np.arange(0,4200+250,250)\n",
    "\n",
    "g = sns.FacetGrid (data = df_clean , col='user_type', height=5)\n",
    "g.map(plt.hist2d, 'year', 'duration_sec', cmin=0.5, cmap = 'inferno_r', bins=[xbin,ybin])\n",
    "ticks = [2017,2018,2019,2020,2021]\n",
    "g.set(xticks = ticks, xticklabels = ticks);\n",
    "plt.colorbar();"
   ]
  },
  {
   "cell_type": "markdown",
   "metadata": {
    "slideshow": {
     "slide_type": "slide"
    }
   },
   "source": [
    "From the heatmap we see an abnormal trend. We do see that the duration for customers is higher than for the subscribers. However, for the year of 2020 it seems that subscribers have used the bikes a lot less compared to the customers. This might be because of covid-19 where people have worked from home a lot more. "
   ]
  },
  {
   "cell_type": "code",
   "execution_count": 29,
   "metadata": {
    "slideshow": {
     "slide_type": "subslide"
    }
   },
   "outputs": [
    {
     "data": {
      "image/png": "[encoded data removed]",
      "text/plain": [
       "<Figure size 432x288 with 1 Axes>"
      ]
     },
     "metadata": {
      "needs_background": "light"
     },
     "output_type": "display_data"
    }
   ],
   "source": [
    "#Distribution of duration for a trip by days and user types\n",
    "ax = sns.pointplot(data=df_clean, x='daysofweek' , y='duration_sec', hue='user_type')\n",
    "plt.xlabel('Days Of The Week')\n",
    "plt.ylabel('Trip Duration in Seconds')\n",
    "plt.title('Average Trip Duration During The Week');"
   ]
  },
  {
   "cell_type": "markdown",
   "metadata": {
    "slideshow": {
     "slide_type": "slide"
    }
   },
   "source": [
    "This graph is as expected where the duration for a trip is longer during the weekends than weekdays. "
   ]
  },
  {
   "cell_type": "markdown",
   "metadata": {
    "slideshow": {
     "slide_type": "slide"
    }
   },
   "source": [
    "### Discuss the distribution(s) of your variable(s) of interest. Were there any unusual points? Did you need to perform any transformations?"
   ]
  },
  {
   "cell_type": "markdown",
   "metadata": {
    "slideshow": {
     "slide_type": "slide"
    }
   },
   "source": [
    "We have seen that customers take longer rides from subscribers. Because most customers are tourists and will travel longer distances to the see the city. What was abnormal was the distribution for the year of 2020, where it seemed that customers were more active than subscribers. Which might be due to the health climate of the world in the past couple months.   "
   ]
  }
 ],
 "metadata": {
  "kernelspec": {
   "display_name": "Python 3",
   "language": "python",
   "name": "python3"
  },
  "language_info": {
   "codemirror_mode": {
    "name": "ipython",
    "version": 3
   },
   "file_extension": ".py",
   "mimetype": "text/x-python",
   "name": "python",
   "nbconvert_exporter": "python",
   "pygments_lexer": "ipython3",
   "version": "3.8.3"
  }
 },
 "nbformat": 4,
 "nbformat_minor": 4
}
